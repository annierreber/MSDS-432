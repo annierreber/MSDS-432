{
 "cells": [
  {
   "cell_type": "code",
   "execution_count": 27,
   "metadata": {},
   "outputs": [],
   "source": [
    "import numpy as np\n",
    "import time\n",
    "import pandas as pd\n",
    "import random\n",
    "import string"
   ]
  },
  {
   "cell_type": "code",
   "execution_count": 71,
   "metadata": {},
   "outputs": [],
   "source": [
    "random.seed(123)\n",
    "#integer lists\n",
    "a = np.random.randint(10000, size = 5000).tolist()\n",
    "b = np.random.randint(10000, size = 10000).tolist()\n",
    "c = np.random.randint(10000, size = 15000).tolist()\n",
    "d = np.random.randint(10000, size = 20000).tolist()\n",
    "e = np.random.randint(10000, size = 25000).tolist()"
   ]
  },
  {
   "cell_type": "code",
   "execution_count": 72,
   "metadata": {},
   "outputs": [],
   "source": [
    "#float lists\n",
    "f = np.random.uniform(0, 10000, size = 5000).tolist()\n",
    "g = np.random.uniform(0, 10000, size = 10000).tolist()\n",
    "h = np.random.uniform(0, 10000, size = 15000).tolist()\n",
    "i = np.random.uniform(0, 10000, size = 20000).tolist()\n",
    "j = np.random.uniform(0, 10000, size = 25000).tolist()"
   ]
  },
  {
   "cell_type": "code",
   "execution_count": 73,
   "metadata": {},
   "outputs": [],
   "source": [
    "#string length 5\n",
    "k = [''.join(random.choices(string.ascii_letters, k = 5)) for _ in range(5000)]\n",
    "l = [''.join(random.choices(string.ascii_letters, k = 5)) for _ in range(10000)]\n",
    "m = [''.join(random.choices(string.ascii_letters, k = 5)) for _ in range(15000)]\n",
    "n = [''.join(random.choices(string.ascii_letters, k = 5)) for _ in range(20000)]\n",
    "o = [''.join(random.choices(string.ascii_letters, k = 5)) for _ in range(25000)]"
   ]
  },
  {
   "cell_type": "code",
   "execution_count": 74,
   "metadata": {},
   "outputs": [],
   "source": [
    "#string length 15\n",
    "p = [''.join(random.choices(string.ascii_letters, k = 15)) for _ in range(5000)]\n",
    "q = [''.join(random.choices(string.ascii_letters, k = 15)) for _ in range(10000)]\n",
    "r = [''.join(random.choices(string.ascii_letters, k = 15)) for _ in range(15000)]\n",
    "s = [''.join(random.choices(string.ascii_letters, k = 15)) for _ in range(20000)]\n",
    "t = [''.join(random.choices(string.ascii_letters, k = 15)) for _ in range(25000)]"
   ]
  },
  {
   "cell_type": "markdown",
   "metadata": {},
   "source": [
    "Imported packages used for this module exercise and created 20 arrays, 5 with integers, 5 with floating points, 5 with string length 5 and 5 with string length 15. Each 5 arrays are of varying 5,000 10,000 15,000 20,000 and 25,000. The numpy arrays had to be converted to list to perform the pop in the selection sort function. "
   ]
  },
  {
   "cell_type": "code",
   "execution_count": 75,
   "metadata": {},
   "outputs": [],
   "source": [
    "arrays = (a,b,c,d,e,f,g,h,i,j,k,l,m,n,o,p,q,r,s,t)"
   ]
  },
  {
   "cell_type": "code",
   "execution_count": 76,
   "metadata": {},
   "outputs": [],
   "source": [
    "# Finds the smallest value in an array\n",
    "def findSmallest(arr):\n",
    "    # Stores the smallest value\n",
    "    smallest = arr[0]\n",
    "    # Stores the index of the smallest value\n",
    "    smallest_index = 0\n",
    "    for i in range(1, len(arr)):\n",
    "        if arr[i] < smallest:\n",
    "            smallest_index = i\n",
    "            smallest = arr[i]      \n",
    "    return smallest_index"
   ]
  },
  {
   "cell_type": "code",
   "execution_count": 77,
   "metadata": {},
   "outputs": [],
   "source": [
    "def selectionSort(arr):\n",
    "    newArr = []\n",
    "    for i in range(len(arr)):\n",
    "        # Finds the smallest element in the array and adds it to the new array\n",
    "        smallest = findSmallest(arr)\n",
    "        newArr.append(arr.pop(smallest))\n",
    "    return newArr"
   ]
  },
  {
   "cell_type": "code",
   "execution_count": 78,
   "metadata": {},
   "outputs": [],
   "source": [
    "times = []"
   ]
  },
  {
   "cell_type": "code",
   "execution_count": 79,
   "metadata": {},
   "outputs": [],
   "source": [
    "n = len(arrays)"
   ]
  },
  {
   "cell_type": "code",
   "execution_count": 81,
   "metadata": {},
   "outputs": [],
   "source": [
    "for item in range(n):\n",
    "    start_time = time.time()\n",
    "    selectionSort(arrays[item])\n",
    "    end_time = time.time()\n",
    "    delta = end_time - start_time\n",
    "    times.append(delta)"
   ]
  },
  {
   "cell_type": "code",
   "execution_count": 121,
   "metadata": {},
   "outputs": [],
   "source": [
    "times = [s*1000 for s in times]"
   ]
  },
  {
   "cell_type": "code",
   "execution_count": 122,
   "metadata": {},
   "outputs": [
    {
     "data": {
      "text/plain": [
       "[676.2206554412842,\n",
       " 2719.682216644287,\n",
       " 6640.241861343384,\n",
       " 11068.349361419678,\n",
       " 16846.835613250732,\n",
       " 757.9715251922607,\n",
       " 3016.9153213500977,\n",
       " 6842.705726623535,\n",
       " 12180.334329605103,\n",
       " 20234.824180603027,\n",
       " 816.7800903320312,\n",
       " 3011.9314193725586,\n",
       " 6711.021184921265,\n",
       " 11941.01071357727,\n",
       " 18424.641847610474,\n",
       " 742.011547088623,\n",
       " 3024.8968601226807,\n",
       " 7082.027435302734,\n",
       " 12281.100034713745,\n",
       " 18802.642107009888]"
      ]
     },
     "execution_count": 122,
     "metadata": {},
     "output_type": "execute_result"
    }
   ],
   "source": [
    "times"
   ]
  },
  {
   "cell_type": "markdown",
   "metadata": {},
   "source": [
    "I put the 20 arrays created into a list, so it would be possible to apply the selection sort to each array and record each time in one loop instead of writing the code 20 times. I then put each time to sort within an array called time to be able to easily put the times into the table and graphs in the next steps. I had to then multply each time by 1000 to get the seconds to sort in milliseconds. I did not change the selection sort formulas."
   ]
  },
  {
   "cell_type": "code",
   "execution_count": 85,
   "metadata": {},
   "outputs": [],
   "source": [
    "array_lengths = [5000, 10000, 15000, 20000, 25000]"
   ]
  },
  {
   "cell_type": "code",
   "execution_count": 94,
   "metadata": {},
   "outputs": [],
   "source": [
    "df = pd.DataFrame(array_lengths)"
   ]
  },
  {
   "cell_type": "code",
   "execution_count": 95,
   "metadata": {},
   "outputs": [],
   "source": [
    "df.columns = ['Length of Array']"
   ]
  },
  {
   "cell_type": "code",
   "execution_count": 123,
   "metadata": {},
   "outputs": [],
   "source": [
    "df['Integer Sort Time'] = times[:5]\n",
    "df['Float Sort Time'] = times[5:10]\n",
    "df['String Length 5 Sort Time'] = times[10:15]\n",
    "df['String Length 15 Sort Time'] = times[15:20]"
   ]
  },
  {
   "cell_type": "code",
   "execution_count": 124,
   "metadata": {},
   "outputs": [
    {
     "data": {
      "text/html": [
       "<div>\n",
       "<style scoped>\n",
       "    .dataframe tbody tr th:only-of-type {\n",
       "        vertical-align: middle;\n",
       "    }\n",
       "\n",
       "    .dataframe tbody tr th {\n",
       "        vertical-align: top;\n",
       "    }\n",
       "\n",
       "    .dataframe thead th {\n",
       "        text-align: right;\n",
       "    }\n",
       "</style>\n",
       "<table border=\"1\" class=\"dataframe\">\n",
       "  <thead>\n",
       "    <tr style=\"text-align: right;\">\n",
       "      <th></th>\n",
       "      <th>Length of Array</th>\n",
       "      <th>Integer Sort Time</th>\n",
       "      <th>Float Sort Time</th>\n",
       "      <th>String Length 5 Sort Time</th>\n",
       "      <th>String Length 15 Sort Time</th>\n",
       "    </tr>\n",
       "  </thead>\n",
       "  <tbody>\n",
       "    <tr>\n",
       "      <th>0</th>\n",
       "      <td>5000</td>\n",
       "      <td>676.220655</td>\n",
       "      <td>757.971525</td>\n",
       "      <td>816.780090</td>\n",
       "      <td>742.011547</td>\n",
       "    </tr>\n",
       "    <tr>\n",
       "      <th>1</th>\n",
       "      <td>10000</td>\n",
       "      <td>2719.682217</td>\n",
       "      <td>3016.915321</td>\n",
       "      <td>3011.931419</td>\n",
       "      <td>3024.896860</td>\n",
       "    </tr>\n",
       "    <tr>\n",
       "      <th>2</th>\n",
       "      <td>15000</td>\n",
       "      <td>6640.241861</td>\n",
       "      <td>6842.705727</td>\n",
       "      <td>6711.021185</td>\n",
       "      <td>7082.027435</td>\n",
       "    </tr>\n",
       "    <tr>\n",
       "      <th>3</th>\n",
       "      <td>20000</td>\n",
       "      <td>11068.349361</td>\n",
       "      <td>12180.334330</td>\n",
       "      <td>11941.010714</td>\n",
       "      <td>12281.100035</td>\n",
       "    </tr>\n",
       "    <tr>\n",
       "      <th>4</th>\n",
       "      <td>25000</td>\n",
       "      <td>16846.835613</td>\n",
       "      <td>20234.824181</td>\n",
       "      <td>18424.641848</td>\n",
       "      <td>18802.642107</td>\n",
       "    </tr>\n",
       "  </tbody>\n",
       "</table>\n",
       "</div>"
      ],
      "text/plain": [
       "   Length of Array  Integer Sort Time  Float Sort Time  \\\n",
       "0             5000         676.220655       757.971525   \n",
       "1            10000        2719.682217      3016.915321   \n",
       "2            15000        6640.241861      6842.705727   \n",
       "3            20000       11068.349361     12180.334330   \n",
       "4            25000       16846.835613     20234.824181   \n",
       "\n",
       "   String Length 5 Sort Time  String Length 15 Sort Time  \n",
       "0                 816.780090                  742.011547  \n",
       "1                3011.931419                 3024.896860  \n",
       "2                6711.021185                 7082.027435  \n",
       "3               11941.010714                12281.100035  \n",
       "4               18424.641848                18802.642107  "
      ]
     },
     "execution_count": 124,
     "metadata": {},
     "output_type": "execute_result"
    }
   ],
   "source": [
    "df"
   ]
  },
  {
   "cell_type": "markdown",
   "metadata": {},
   "source": [
    "I created a dataframe to hold each array length and the varying sort times for each type of array. Each 5 times within the time array held the respective times for each type of array. The end result shows a clear picture of the varying sort times for each array length and type of array. "
   ]
  },
  {
   "cell_type": "code",
   "execution_count": 111,
   "metadata": {},
   "outputs": [],
   "source": [
    "import matplotlib.pyplot as plt "
   ]
  },
  {
   "cell_type": "code",
   "execution_count": 125,
   "metadata": {},
   "outputs": [
    {
     "data": {
      "image/png": "[encoded data removed]",
      "text/plain": [
       "<Figure size 432x288 with 1 Axes>"
      ]
     },
     "metadata": {
      "needs_background": "light"
     },
     "output_type": "display_data"
    }
   ],
   "source": [
    "df.plot(kind = 'bar', x = 'Length of Array', y = ['Integer Sort Time','Float Sort Time', 'String Length 5 Sort Time', 'String Length 15 Sort Time'])\n",
    "plt.show()"
   ]
  },
  {
   "cell_type": "markdown",
   "metadata": {
    "collapsed": true
   },
   "source": [
    "The graph is a quick bar chart based on the dataframe created above that shows the sort times for each array length and type. "
   ]
  },
  {
   "cell_type": "markdown",
   "metadata": {},
   "source": [
    "The table and graph both show how as each array gets larger, the sort times take longer across the board no matter what type of array. For each array length, the times to sort do not differ significantly depending on integer, floating, or string type arrays. The significant differences only really occur as more items are added to the array. \n",
    "\n",
    "The big O notation says that the sort times could take as long as n^2 for each array length. Even though my sort times are shorter than n^2 for each array length, it shows the theory that the sort times don't larger depend on types of items in array but only on the number of items. As n gets larger then n^2 gets significantly larger as well which is well represented within the table and graph."
   ]
  }
 ],
 "metadata": {
  "kernelspec": {
   "display_name": "Python 3",
   "language": "python",
   "name": "python3"
  },
  "language_info": {
   "codemirror_mode": {
    "name": "ipython",
    "version": 3
   },
   "file_extension": ".py",
   "mimetype": "text/x-python",
   "name": "python",
   "nbconvert_exporter": "python",
   "pygments_lexer": "ipython3",
   "version": "3.7.3"
  }
 },
 "nbformat": 4,
 "nbformat_minor": 2
}
