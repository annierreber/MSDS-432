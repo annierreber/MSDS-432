{
 "cells": [
  {
   "cell_type": "code",
   "execution_count": 27,
   "metadata": {},
   "outputs": [],
   "source": [
    "import numpy as np\n",
    "import time\n",
    "import pandas as pd\n",
    "import random\n",
    "import string"
   ]
  },
  {
   "cell_type": "code",
   "execution_count": 71,
   "metadata": {},
   "outputs": [],
   "source": [
    "random.seed(123)\n",
    "#integer lists\n",
    "a = np.random.randint(10000, size = 5000).tolist()\n",
    "b = np.random.randint(10000, size = 10000).tolist()\n",
    "c = np.random.randint(10000, size = 15000).tolist()\n",
    "d = np.random.randint(10000, size = 20000).tolist()\n",
    "e = np.random.randint(10000, size = 25000).tolist()"
   ]
  },
  {
   "cell_type": "code",
   "execution_count": 72,
   "metadata": {},
   "outputs": [],
   "source": [
    "#float lists\n",
    "f = np.random.uniform(0, 10000, size = 5000).tolist()\n",
    "g = np.random.uniform(0, 10000, size = 10000).tolist()\n",
    "h = np.random.uniform(0, 10000, size = 15000).tolist()\n",
    "i = np.random.uniform(0, 10000, size = 20000).tolist()\n",
    "j = np.random.uniform(0, 10000, size = 25000).tolist()"
   ]
  },
  {
   "cell_type": "code",
   "execution_count": 73,
   "metadata": {},
   "outputs": [],
   "source": [
    "#string length 5\n",
    "k = [''.join(random.choices(string.ascii_letters, k = 5)) for _ in range(5000)]\n",
    "l = [''.join(random.choices(string.ascii_letters, k = 5)) for _ in range(10000)]\n",
    "m = [''.join(random.choices(string.ascii_letters, k = 5)) for _ in range(15000)]\n",
    "n = [''.join(random.choices(string.ascii_letters, k = 5)) for _ in range(20000)]\n",
    "o = [''.join(random.choices(string.ascii_letters, k = 5)) for _ in range(25000)]"
   ]
  },
  {
   "cell_type": "code",
   "execution_count": 74,
   "metadata": {},
   "outputs": [],
   "source": [
    "#string length 15\n",
    "p = [''.join(random.choices(string.ascii_letters, k = 15)) for _ in range(5000)]\n",
    "q = [''.join(random.choices(string.ascii_letters, k = 15)) for _ in range(10000)]\n",
    "r = [''.join(random.choices(string.ascii_letters, k = 15)) for _ in range(15000)]\n",
    "s = [''.join(random.choices(string.ascii_letters, k = 15)) for _ in range(20000)]\n",
    "t = [''.join(random.choices(string.ascii_letters, k = 15)) for _ in range(25000)]"
   ]
  },
  {
   "cell_type": "code",
   "execution_count": 75,
   "metadata": {},
   "outputs": [],
   "source": [
    "arrays = (a,b,c,d,e,f,g,h,i,j,k,l,m,n,o,p,q,r,s,t)"
   ]
  },
  {
   "cell_type": "code",
   "execution_count": 76,
   "metadata": {},
   "outputs": [],
   "source": [
    "# Finds the smallest value in an array\n",
    "def findSmallest(arr):\n",
    "    # Stores the smallest value\n",
    "    smallest = arr[0]\n",
    "    # Stores the index of the smallest value\n",
    "    smallest_index = 0\n",
    "    for i in range(1, len(arr)):\n",
    "        if arr[i] < smallest:\n",
    "            smallest_index = i\n",
    "            smallest = arr[i]      \n",
    "    return smallest_index"
   ]
  },
  {
   "cell_type": "code",
   "execution_count": 77,
   "metadata": {},
   "outputs": [],
   "source": [
    "def selectionSort(arr):\n",
    "    newArr = []\n",
    "    for i in range(len(arr)):\n",
    "        # Finds the smallest element in the array and adds it to the new array\n",
    "        smallest = findSmallest(arr)\n",
    "        newArr.append(arr.pop(smallest))\n",
    "    return newArr"
   ]
  },
  {
   "cell_type": "code",
   "execution_count": 78,
   "metadata": {},
   "outputs": [],
   "source": [
    "times = []"
   ]
  },
  {
   "cell_type": "code",
   "execution_count": 79,
   "metadata": {},
   "outputs": [],
   "source": [
    "n = len(arrays)"
   ]
  },
  {
   "cell_type": "code",
   "execution_count": 81,
   "metadata": {},
   "outputs": [],
   "source": [
    "for item in range(n):\n",
    "    start_time = time.time()\n",
    "    selectionSort(arrays[item])\n",
    "    end_time = time.time()\n",
    "    delta = end_time - start_time\n",
    "    times.append(delta)"
   ]
  },
  {
   "cell_type": "code",
   "execution_count": 84,
   "metadata": {},
   "outputs": [
    {
     "data": {
      "text/plain": [
       "[0.6762206554412842,\n",
       " 2.719682216644287,\n",
       " 6.640241861343384,\n",
       " 11.068349361419678,\n",
       " 16.846835613250732,\n",
       " 0.7579715251922607,\n",
       " 3.0169153213500977,\n",
       " 6.842705726623535,\n",
       " 12.180334329605103,\n",
       " 20.234824180603027,\n",
       " 0.8167800903320312,\n",
       " 3.0119314193725586,\n",
       " 6.711021184921265,\n",
       " 11.94101071357727,\n",
       " 18.424641847610474,\n",
       " 0.742011547088623,\n",
       " 3.0248968601226807,\n",
       " 7.082027435302734,\n",
       " 12.281100034713745,\n",
       " 18.802642107009888]"
      ]
     },
     "execution_count": 84,
     "metadata": {},
     "output_type": "execute_result"
    }
   ],
   "source": [
    "times"
   ]
  },
  {
   "cell_type": "code",
   "execution_count": 85,
   "metadata": {},
   "outputs": [],
   "source": [
    "array_lengths = [5000, 10000, 15000, 20000, 25000]"
   ]
  },
  {
   "cell_type": "code",
   "execution_count": 94,
   "metadata": {},
   "outputs": [],
   "source": [
    "df = pd.DataFrame(array_lengths)"
   ]
  },
  {
   "cell_type": "code",
   "execution_count": 95,
   "metadata": {},
   "outputs": [],
   "source": [
    "df.columns = ['Length of Array']"
   ]
  },
  {
   "cell_type": "code",
   "execution_count": 108,
   "metadata": {},
   "outputs": [],
   "source": [
    "df['Integer Sort Time'] = times[:5]\n",
    "df['Float Sort Time'] = times[5:10]\n",
    "df['String Length 5 Sort Time'] = times[10:15]\n",
    "df['String Length 15 Sort Time'] = times[15:20]"
   ]
  },
  {
   "cell_type": "code",
   "execution_count": 109,
   "metadata": {},
   "outputs": [
    {
     "data": {
      "text/html": [
       "<div>\n",
       "<style scoped>\n",
       "    .dataframe tbody tr th:only-of-type {\n",
       "        vertical-align: middle;\n",
       "    }\n",
       "\n",
       "    .dataframe tbody tr th {\n",
       "        vertical-align: top;\n",
       "    }\n",
       "\n",
       "    .dataframe thead th {\n",
       "        text-align: right;\n",
       "    }\n",
       "</style>\n",
       "<table border=\"1\" class=\"dataframe\">\n",
       "  <thead>\n",
       "    <tr style=\"text-align: right;\">\n",
       "      <th></th>\n",
       "      <th>Length of Array</th>\n",
       "      <th>Integer Sort Time</th>\n",
       "      <th>Float Sort Time</th>\n",
       "      <th>String Length 5 Sort Time</th>\n",
       "      <th>String Length 15 Sort Time</th>\n",
       "    </tr>\n",
       "  </thead>\n",
       "  <tbody>\n",
       "    <tr>\n",
       "      <th>0</th>\n",
       "      <td>5000</td>\n",
       "      <td>0.676221</td>\n",
       "      <td>0.757972</td>\n",
       "      <td>0.816780</td>\n",
       "      <td>0.742012</td>\n",
       "    </tr>\n",
       "    <tr>\n",
       "      <th>1</th>\n",
       "      <td>10000</td>\n",
       "      <td>2.719682</td>\n",
       "      <td>3.016915</td>\n",
       "      <td>3.011931</td>\n",
       "      <td>3.024897</td>\n",
       "    </tr>\n",
       "    <tr>\n",
       "      <th>2</th>\n",
       "      <td>15000</td>\n",
       "      <td>6.640242</td>\n",
       "      <td>6.842706</td>\n",
       "      <td>6.711021</td>\n",
       "      <td>7.082027</td>\n",
       "    </tr>\n",
       "    <tr>\n",
       "      <th>3</th>\n",
       "      <td>20000</td>\n",
       "      <td>11.068349</td>\n",
       "      <td>12.180334</td>\n",
       "      <td>11.941011</td>\n",
       "      <td>12.281100</td>\n",
       "    </tr>\n",
       "    <tr>\n",
       "      <th>4</th>\n",
       "      <td>25000</td>\n",
       "      <td>16.846836</td>\n",
       "      <td>20.234824</td>\n",
       "      <td>18.424642</td>\n",
       "      <td>18.802642</td>\n",
       "    </tr>\n",
       "  </tbody>\n",
       "</table>\n",
       "</div>"
      ],
      "text/plain": [
       "   Length of Array  Integer Sort Time  Float Sort Time  \\\n",
       "0             5000           0.676221         0.757972   \n",
       "1            10000           2.719682         3.016915   \n",
       "2            15000           6.640242         6.842706   \n",
       "3            20000          11.068349        12.180334   \n",
       "4            25000          16.846836        20.234824   \n",
       "\n",
       "   String Length 5 Sort Time  String Length 15 Sort Time  \n",
       "0                   0.816780                    0.742012  \n",
       "1                   3.011931                    3.024897  \n",
       "2                   6.711021                    7.082027  \n",
       "3                  11.941011                   12.281100  \n",
       "4                  18.424642                   18.802642  "
      ]
     },
     "execution_count": 109,
     "metadata": {},
     "output_type": "execute_result"
    }
   ],
   "source": [
    "df"
   ]
  },
  {
   "cell_type": "code",
   "execution_count": 111,
   "metadata": {},
   "outputs": [],
   "source": [
    "import matplotlib.pyplot as plt "
   ]
  },
  {
   "cell_type": "code",
   "execution_count": 116,
   "metadata": {},
   "outputs": [
    {
     "data": {
      "image/png": "[encoded data removed]",
      "text/plain": [
       "<Figure size 432x288 with 1 Axes>"
      ]
     },
     "metadata": {
      "needs_background": "light"
     },
     "output_type": "display_data"
    }
   ],
   "source": [
    "df.plot(kind = 'bar', x = 'Length of Array', y = ['Integer Sort Time','Float Sort Time', 'String Length 5 Sort Time', 'String Length 15 Sort Time'])\n",
    "plt.show()"
   ]
  },
  {
   "cell_type": "code",
   "execution_count": null,
   "metadata": {
    "collapsed": true
   },
   "outputs": [],
   "source": []
  }
 ],
 "metadata": {
  "kernelspec": {
   "display_name": "Python 3",
   "language": "python",
   "name": "python3"
  },
  "language_info": {
   "codemirror_mode": {
    "name": "ipython",
    "version": 3
   },
   "file_extension": ".py",
   "mimetype": "text/x-python",
   "name": "python",
   "nbconvert_exporter": "python",
   "pygments_lexer": "ipython3",
   "version": "3.7.3"
  }
 },
 "nbformat": 4,
 "nbformat_minor": 2
}
